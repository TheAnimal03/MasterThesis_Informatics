{
 "cells": [
  {
   "cell_type": "code",
   "execution_count": 1,
   "id": "bc4d6b2c",
   "metadata": {},
   "outputs": [
    {
     "name": "stderr",
     "output_type": "stream",
     "text": [
      "Traceback (most recent call last):\n",
      "  File \"C:\\Users\\chris\\Google Drive\\My Drive\\Uni\\MA\\pytorch-YOLOv4\\demo.py\", line 162, in <module>\n",
      "    detect_cv2(args.cfgfile, args.weightfile, args.imgfile)\n",
      "  File \"C:\\Users\\chris\\Google Drive\\My Drive\\Uni\\MA\\pytorch-YOLOv4\\demo.py\", line 28, in detect_cv2\n",
      "    m = Darknet(cfgfile)\n",
      "  File \"C:\\Users\\chris\\Google Drive\\My Drive\\Uni\\MA\\pytorch-YOLOv4\\tool\\darknet2pytorch.py\", line 130, in __init__\n",
      "    self.blocks = parse_cfg(cfgfile)\n",
      "  File \"C:\\Users\\chris\\Google Drive\\My Drive\\Uni\\MA\\pytorch-YOLOv4\\tool\\config.py\", line 9, in parse_cfg\n",
      "    line = fp.readline()\n",
      "OSError: [Errno 28] No space left on device\n"
     ]
    }
   ],
   "source": [
    "!python demo.py "
   ]
  },
  {
   "cell_type": "code",
   "execution_count": 11,
   "id": "15ae4f89-5185-49a9-aa7a-ce5c2ed55c70",
   "metadata": {},
   "outputs": [
    {
     "name": "stdout",
     "output_type": "stream",
     "text": [
      "deque:  deque(['a', 4])\n"
     ]
    }
   ],
   "source": [
    "import collections\n",
    "  \n",
    "# initializing deque\n",
    "de = collections.deque('a')\n",
    "de.append(4)\n",
    "print(\"deque: \", de)"
   ]
  },
  {
   "cell_type": "code",
   "execution_count": 2,
   "id": "e8a2deef-76a5-4619-86ca-382201c7c386",
   "metadata": {},
   "outputs": [
    {
     "name": "stdout",
     "output_type": "stream",
     "text": [
      "[WinError 2] The system cannot find the file specified: 'pytorch-YOLOv4'\n",
      "C:\\Users\\chris\\Google Drive\\My Drive\\Uni\\MA\\pytorch-YOLOv4\n"
     ]
    }
   ],
   "source": [
    "cd pytorch-YOLOv4"
   ]
  },
  {
   "cell_type": "code",
   "execution_count": 3,
   "id": "2874b8ca-e46a-49c4-9a32-58ad51a94fb2",
   "metadata": {},
   "outputs": [
    {
     "name": "stdout",
     "output_type": "stream",
     "text": [
      "C:\\Users\\chris\\Google Drive\\My Drive\\Uni\\MA\n"
     ]
    }
   ],
   "source": [
    "cd .."
   ]
  },
  {
   "cell_type": "code",
   "execution_count": 4,
   "id": "1a4c58ab-9fd6-42b8-ac7e-3eac09a4afb8",
   "metadata": {},
   "outputs": [
    {
     "name": "stdout",
     "output_type": "stream",
     "text": [
      "C:\\Users\\chris\\Google Drive\\My Drive\\Uni\\MA\\pytorch-mobilenet-v2\n"
     ]
    }
   ],
   "source": [
    "cd pytorch-mobilenet-v2"
   ]
  },
  {
   "cell_type": "code",
   "execution_count": 5,
   "id": "db1d3d5d-a1f8-419d-bb05-b05d25b25643",
   "metadata": {},
   "outputs": [
    {
     "name": "stdout",
     "output_type": "stream",
     "text": [
      " Volume in drive C is OS\n",
      " Volume Serial Number is F2E9-03BF\n",
      "\n",
      " Directory of C:\\Users\\chris\\Google Drive\\My Drive\\Uni\\MA\\pytorch-mobilenet-v2\n",
      "\n",
      "10/29/2022  01:00 PM    <DIR>          .\n",
      "10/29/2022  11:00 AM    <DIR>          ..\n",
      "10/30/2022  02:12 AM    <DIR>          .ipynb_checkpoints\n",
      "10/29/2022  10:17 AM    <DIR>          __pycache__\n",
      "10/29/2022  09:45 AM            11,558 LICENSE\n",
      "10/29/2022  01:00 PM             5,139 MobileNetV2.py\n",
      "10/29/2022  09:45 AM             2,469 README.md\n",
      "               3 File(s)         19,166 bytes\n",
      "               4 Dir(s)     173,703,168 bytes free\n"
     ]
    }
   ],
   "source": [
    "ls"
   ]
  },
  {
   "cell_type": "code",
   "execution_count": 6,
   "id": "eb454eb1",
   "metadata": {},
   "outputs": [],
   "source": [
    "import torch.nn as nn\n",
    "import math\n",
    "\n",
    "\n",
    "def conv_bn(inp, oup, stride):\n",
    "    return nn.Sequential(\n",
    "        nn.Conv2d(inp, oup, 3, stride, 1, bias=False),\n",
    "        nn.BatchNorm2d(oup),\n",
    "        nn.ReLU6(inplace=True)\n",
    "    )\n",
    "\n",
    "\n",
    "def conv_1x1_bn(inp, oup):\n",
    "    return nn.Sequential(\n",
    "        nn.Conv2d(inp, oup, 1, 1, 0, bias=False),\n",
    "        nn.BatchNorm2d(oup),\n",
    "        nn.ReLU6(inplace=True)\n",
    "    )\n",
    "\n",
    "\n",
    "def make_divisible(x, divisible_by=8):\n",
    "    import numpy as np\n",
    "    return int(np.ceil(x * 1. / divisible_by) * divisible_by)\n",
    "\n",
    "\n",
    "class InvertedResidual(nn.Module):\n",
    "    def __init__(self, inp, oup, stride, expand_ratio):\n",
    "        super(InvertedResidual, self).__init__()\n",
    "        self.stride = stride\n",
    "        assert stride in [1, 2]\n",
    "\n",
    "        hidden_dim = int(inp * expand_ratio)\n",
    "        self.use_res_connect = self.stride == 1 and inp == oup\n",
    "\n",
    "        if expand_ratio == 1:\n",
    "            self.conv = nn.Sequential(\n",
    "                # dw\n",
    "                nn.Conv2d(hidden_dim, hidden_dim, 3, stride, 1, groups=hidden_dim, bias=False),\n",
    "                nn.BatchNorm2d(hidden_dim),\n",
    "                nn.ReLU6(inplace=True),\n",
    "                # pw-linear\n",
    "                nn.Conv2d(hidden_dim, oup, 1, 1, 0, bias=False),\n",
    "                nn.BatchNorm2d(oup),\n",
    "            )\n",
    "        else:\n",
    "            self.conv = nn.Sequential(\n",
    "                # pw\n",
    "                nn.Conv2d(inp, hidden_dim, 1, 1, 0, bias=False),\n",
    "                nn.BatchNorm2d(hidden_dim),\n",
    "                nn.ReLU6(inplace=True),\n",
    "                # dw\n",
    "                nn.Conv2d(hidden_dim, hidden_dim, 3, stride, 1, groups=hidden_dim, bias=False),\n",
    "                nn.BatchNorm2d(hidden_dim),\n",
    "                nn.ReLU6(inplace=True),\n",
    "                # pw-linear\n",
    "                nn.Conv2d(hidden_dim, oup, 1, 1, 0, bias=False),\n",
    "                nn.BatchNorm2d(oup),\n",
    "            )\n",
    "\n",
    "    def forward(self, x):\n",
    "        if self.use_res_connect:\n",
    "            return x + self.conv(x)\n",
    "        else:\n",
    "            return self.conv(x)\n",
    "\n",
    "\n",
    "class MobileNetV2(nn.Module):\n",
    "    def __init__(self, n_class=1000, input_size=224, width_mult=1.):\n",
    "        super(MobileNetV2, self).__init__()\n",
    "        block = InvertedResidual\n",
    "        input_channel = 32\n",
    "        last_channel = 1280\n",
    "        interverted_residual_setting = [\n",
    "            # t, c, n, s\n",
    "            [1, 16, 1, 1],\n",
    "            [6, 24, 2, 2],\n",
    "            [6, 32, 3, 2],\n",
    "            [6, 64, 4, 2],\n",
    "            [6, 96, 3, 1],\n",
    "            [6, 160, 3, 2],\n",
    "            [6, 320, 1, 1],\n",
    "        ]\n",
    "\n",
    "        # building first layer\n",
    "        assert input_size % 32 == 0\n",
    "        # input_channel = make_divisible(input_channel * width_mult)  # first channel is always 32!\n",
    "        self.last_channel = make_divisible(last_channel * width_mult) if width_mult > 1.0 else last_channel\n",
    "        self.features = [conv_bn(3, input_channel, 2)]\n",
    "        # building inverted residual blocks\n",
    "        for t, c, n, s in interverted_residual_setting:\n",
    "            output_channel = make_divisible(c * width_mult) if t > 1 else c\n",
    "            for i in range(n):\n",
    "                if i == 0:\n",
    "                    self.features.append(block(input_channel, output_channel, s, expand_ratio=t))\n",
    "                else:\n",
    "                    self.features.append(block(input_channel, output_channel, 1, expand_ratio=t))\n",
    "                input_channel = output_channel\n",
    "        # building last several layers\n",
    "        self.features.append(conv_1x1_bn(input_channel, self.last_channel))\n",
    "        # make it nn.Sequential\n",
    "        self.features = nn.Sequential(*self.features)\n",
    "\n",
    "        # building classifier\n",
    "        self.classifier = nn.Linear(self.last_channel, n_class)\n",
    "\n",
    "        self._initialize_weights()\n",
    "\n",
    "    def forward(self, x):\n",
    "        x = self.features(x)\n",
    "        x = x.mean(3).mean(2)\n",
    "        x = self.classifier(x)\n",
    "        return x\n",
    "\n",
    "    def _initialize_weights(self):\n",
    "        for m in self.modules():\n",
    "            if isinstance(m, nn.Conv2d):\n",
    "                n = m.kernel_size[0] * m.kernel_size[1] * m.out_channels\n",
    "                m.weight.data.normal_(0, math.sqrt(2. / n))\n",
    "                if m.bias is not None:\n",
    "                    m.bias.data.zero_()\n",
    "            elif isinstance(m, nn.BatchNorm2d):\n",
    "                m.weight.data.fill_(1)\n",
    "                m.bias.data.zero_()\n",
    "            elif isinstance(m, nn.Linear):\n",
    "                n = m.weight.size(1)\n",
    "                m.weight.data.normal_(0, 0.01)\n",
    "                m.bias.data.zero_()\n",
    "\n",
    "    def mobilenet_v2(pretrained=True):\n",
    "        model = MobileNetV2(width_mult=1)\n",
    "\n",
    "        if pretrained:\n",
    "            try:\n",
    "                from torch.hub import load_state_dict_from_url\n",
    "            except ImportError:\n",
    "                from torch.utils.model_zoo import load_url as load_state_dict_from_url\n",
    "            state_dict = load_state_dict_from_url(\n",
    "                'https://www.dropbox.com/s/47tyzpofuuyyv1b/mobilenetv2_1.0-f2a8633.pth.tar?dl=1', progress=True)\n",
    "            model.load_state_dict(state_dict)\n",
    "        return model\n",
    "\n"
   ]
  },
  {
   "cell_type": "code",
   "execution_count": 7,
   "id": "dfd766ab-0036-4046-be30-cc7ce678bf6b",
   "metadata": {},
   "outputs": [
    {
     "ename": "NameError",
     "evalue": "name 'torch' is not defined",
     "output_type": "error",
     "traceback": [
      "\u001b[1;31m---------------------------------------------------------------------------\u001b[0m",
      "\u001b[1;31mNameError\u001b[0m                                 Traceback (most recent call last)",
      "Input \u001b[1;32mIn [7]\u001b[0m, in \u001b[0;36m<cell line: 11>\u001b[1;34m()\u001b[0m\n\u001b[0;32m      8\u001b[0m     y1,y2 \u001b[38;5;241m=\u001b[39m net(x)\n\u001b[0;32m      9\u001b[0m     \u001b[38;5;28mprint\u001b[39m(y2\u001b[38;5;241m.\u001b[39mshape, net)\n\u001b[1;32m---> 11\u001b[0m \u001b[43mtest\u001b[49m\u001b[43m(\u001b[49m\u001b[43m)\u001b[49m\n",
      "Input \u001b[1;32mIn [7]\u001b[0m, in \u001b[0;36mtest\u001b[1;34m()\u001b[0m\n\u001b[0;32m      5\u001b[0m net \u001b[38;5;241m=\u001b[39m mobilenetv2(model_url)\n\u001b[0;32m      6\u001b[0m \u001b[38;5;66;03m#print(net)\u001b[39;00m\n\u001b[1;32m----> 7\u001b[0m x \u001b[38;5;241m=\u001b[39m \u001b[43mtorch\u001b[49m\u001b[38;5;241m.\u001b[39mrandn(\u001b[38;5;241m2\u001b[39m,\u001b[38;5;241m3\u001b[39m,\u001b[38;5;241m224\u001b[39m,\u001b[38;5;241m224\u001b[39m)\n\u001b[0;32m      8\u001b[0m y1,y2 \u001b[38;5;241m=\u001b[39m net(x)\n\u001b[0;32m      9\u001b[0m \u001b[38;5;28mprint\u001b[39m(y2\u001b[38;5;241m.\u001b[39mshape, net)\n",
      "\u001b[1;31mNameError\u001b[0m: name 'torch' is not defined"
     ]
    }
   ],
   "source": [
    "from tool.MobileNetV2 import *\n",
    "\n",
    "def test():\n",
    "    model_url = 'https://raw.githubusercontent.com/d-li14/mobilenetv2.pytorch/master/pretrained/mobilenetv2-c5e733a8.pth'\n",
    "    net = mobilenetv2(model_url)\n",
    "    #print(net)\n",
    "    x = torch.randn(2,3,224,224)\n",
    "    y1,y2 = net(x)\n",
    "    print(y2.shape, net)\n",
    "    \n",
    "test()"
   ]
  },
  {
   "cell_type": "code",
   "execution_count": null,
   "id": "1cb00d03-fde1-43c6-bb7d-331229f2404d",
   "metadata": {},
   "outputs": [],
   "source": [
    "!pip install easydict"
   ]
  },
  {
   "cell_type": "code",
   "execution_count": null,
   "id": "d94b8fc5-ca10-4195-a2d2-11d49b117905",
   "metadata": {},
   "outputs": [],
   "source": [
    "!pip install pycocotools"
   ]
  },
  {
   "cell_type": "code",
   "execution_count": null,
   "id": "6628f523-93c2-4837-b99c-27cc90491ee4",
   "metadata": {},
   "outputs": [],
   "source": [
    "!pip install tensorboardX"
   ]
  },
  {
   "cell_type": "code",
   "execution_count": null,
   "id": "63b1ee5a-c3f2-4e28-a032-4ca14a2eddbe",
   "metadata": {},
   "outputs": [],
   "source": [
    "!python trainmnv2.py -g 0 -dir r\"Google Drive/My Drive/Uni/MA/coco/train2017\""
   ]
  },
  {
   "cell_type": "code",
   "execution_count": null,
   "id": "328b47fc-b87f-462d-bec3-d7a5bd03f921",
   "metadata": {},
   "outputs": [],
   "source": [
    "\n",
    "import os\n",
    "_BASE_DIR = os.path.dirname(os.path.abspath(__file__))\n",
    "os.path.join(_BASE_DIR,'..', '..' )\n",
    "\n"
   ]
  },
  {
   "cell_type": "code",
   "execution_count": null,
   "id": "3728c90e-c0a7-4e02-b016-5bfb49b5a1aa",
   "metadata": {},
   "outputs": [],
   "source": [
    "from pathlib import Path\n",
    "import os\n",
    "src = Path.cwd()\n",
    "#os.path.split(src, os.path.splitext(os.path.basename(src))[0])\n",
    "#print(src)\n",
    "sfle, rfle = os.path.split(src)\n",
    "\n",
    "print(sfle)\n"
   ]
  },
  {
   "cell_type": "code",
   "execution_count": null,
   "id": "d6c1a042-cd0c-48a5-9406-204e42ea1f9c",
   "metadata": {},
   "outputs": [],
   "source": [
    "\n"
   ]
  },
  {
   "cell_type": "code",
   "execution_count": null,
   "id": "2ecc5dc6-386d-4892-90a6-17943587b9cc",
   "metadata": {},
   "outputs": [],
   "source": [
    "def test():\n",
    "    model_url = 'https://raw.githubusercontent.com/d-li14/mobilenetv2.pytorch/master/pretrained/mobilenetv2-c5e733a8.pth'\n",
    "    net = mobilenetv2(model_url)\n",
    "    #print(net)\n",
    "    x = torch.randn(2,3,224,224)\n",
    "    y1,y2 = net(x)\n",
    "    print(y2.shape, net)\n",
    "    \n",
    "test()"
   ]
  }
 ],
 "metadata": {
  "kernelspec": {
   "display_name": "Python 3 (ipykernel)",
   "language": "python",
   "name": "python3"
  },
  "language_info": {
   "codemirror_mode": {
    "name": "ipython",
    "version": 3
   },
   "file_extension": ".py",
   "mimetype": "text/x-python",
   "name": "python",
   "nbconvert_exporter": "python",
   "pygments_lexer": "ipython3",
   "version": "3.9.12"
  }
 },
 "nbformat": 4,
 "nbformat_minor": 5
}
